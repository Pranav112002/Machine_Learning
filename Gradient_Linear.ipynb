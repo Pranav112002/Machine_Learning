{
  "nbformat": 4,
  "nbformat_minor": 0,
  "metadata": {
    "colab": {
      "provenance": []
    },
    "kernelspec": {
      "name": "python3",
      "display_name": "Python 3"
    },
    "language_info": {
      "name": "python"
    }
  },
  "cells": [
    {
      "cell_type": "code",
      "execution_count": null,
      "metadata": {
        "colab": {
          "base_uri": "https://localhost:8080/"
        },
        "id": "Z38JnUHhuU8z",
        "outputId": "ec3e8361-1ffe-476f-cb7d-a9035029e528"
      },
      "outputs": [
        {
          "output_type": "stream",
          "name": "stdout",
          "text": [
            "Iteration 0: MSE = 16.3125\n",
            "Iteration 100: MSE = 0.5510\n",
            "Iteration 200: MSE = 0.4801\n",
            "Iteration 300: MSE = 0.4411\n",
            "Iteration 400: MSE = 0.4198\n",
            "Iteration 500: MSE = 0.4080\n",
            "Iteration 600: MSE = 0.4016\n",
            "Iteration 700: MSE = 0.3981\n",
            "Iteration 800: MSE = 0.3961\n",
            "Iteration 900: MSE = 0.3950\n",
            "Final Slope (m): 0.8722\n",
            "Final Intercept (c): 1.6847\n",
            "R-squared (R^2): 0.6958\n"
          ]
        }
      ],
      "source": [
        "\n",
        "import numpy as np\n",
        "import matplotlib.pyplot as plt\n",
        "\n",
        "x = np.array([1, 2, 3, 4])\n",
        "y = np.array([2, 4, 5, 4.5])\n",
        "\n",
        "\n",
        "learning_rate = 0.01\n",
        "iterations = 1000\n",
        "\n",
        "\n",
        "m = 0\n",
        "c = 0\n",
        "\n",
        "\n",
        "n = len(x)\n",
        "\n",
        "\n",
        "for _ in range(iterations):\n",
        "\n",
        "    y_pred = m * x + c\n",
        "\n",
        "\n",
        "    dm = (-2/n) * np.sum((y - y_pred) * x)\n",
        "    dc = (-2/n) * np.sum(y - y_pred)\n",
        "\n",
        "\n",
        "    m -= learning_rate * dm\n",
        "    c -= learning_rate * dc\n",
        "\n",
        "\n",
        "    if _ % 100 == 0:\n",
        "        mse = np.mean((y - y_pred) ** 2)\n",
        "        print(f\"Iteration {_}: MSE = {mse:.4f}\")\n",
        "\n",
        "\n",
        "print(f\"Final Slope (m): {m:.4f}\")\n",
        "print(f\"Final Intercept (c): {c:.4f}\")\n",
        "\n",
        "y_pred = m * x + c\n",
        "\n",
        "\n",
        "mean_y = np.mean(y)\n",
        "ss_tot = np.sum((y - mean_y) ** 2)\n",
        "ss_res = np.sum((y - y_pred) ** 2)\n",
        "r2 = 1 - (ss_res / ss_tot)\n",
        "print(f\"R-squared (R^2): {r2:.4f}\")"
      ]
    }
  ]
}